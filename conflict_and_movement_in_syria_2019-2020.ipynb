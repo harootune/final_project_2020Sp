{
 "cells": [
  {
   "cell_type": "markdown",
   "metadata": {
    "collapsed": true,
    "pycharm": {
     "name": "#%% md\n"
    }
   },
   "source": [
    "## Conflict and Movement in Syria, 2019-2020\n",
    "### UIUC, iSchool, IS590PR, Spring 2020, Final Project\n",
    "#### By Derek Harootune Otis\n",
    "---\n",
    "\n",
    "This project analyzes the movement of internally displaced persons within Syria in relation to the ebb and flow of Syria's ongoing civil war."
   ]
  },
  {
   "cell_type": "markdown",
   "metadata": {
    "pycharm": {
     "name": "#%% md\n"
    }
   },
   "source": [
    "### Part One: Preparation\n",
    "\n",
    "#### Term Definitions\n",
    "---\n",
    "**Internally Displaced Person (IDP)** - \"\\[P\\]ersons or groups of persons who have been forced or obliged to flee or to leave\n",
    "their homes or places of habitual residence, in particular as a result of or in order\n",
    "to avoid the effects of armed conflict, situations of generalized violence, violations\n",
    "of human rights or natural or human-made disasters, and who have not crossed an\n",
    "internationally recognized state border.\" Definition from the [OCHA Guiding Principles on Internal Displacement](https://www.internal-displacement.org/sites/default/files/publications/documents/199808-training-OCHA-guiding-principles-Eng2.pdf)\n",
    "\n",
    "**IDP Movement** - The number of individuals forced to move from a place of origin to a new place. Counts of IDP movement are extracted from OCHA Turkey's \"Syrian Arab Republic: IDP movements and IDP spontaneous return movements Data\" dataset (see below)\n",
    "\n",
    "**Conflict Event** - A single conflict-related observation as recorded in the ACLED's \"Syrian Arab Republic - Conflict Data\" dataset (see below)\n",
    "\n",
    "#### Datasets\n",
    "---\n",
    "1. [Syrian Arab Republic: IDP movements and IDP spontaneous return movements Data](https://data.humdata.org/dataset/syrian-arab-republic-idp-movements-and-idp-spontaneous-return-movements-data)\n",
    "2. [Syrian Arab Republic - Conflict Data](https://data.humdata.org/dataset/acled-data-for-syrian-arab-republic)\n",
    "\n",
    "#### Hypotheses\n",
    "---"
   ]
  },
  {
   "cell_type": "markdown",
   "metadata": {
    "pycharm": {
     "name": "#%%\n"
    }
   },
   "source": [
    "*Setting the stage - imports, data processing - DISCUSS THIS FURTHER"
   ]
  },
  {
   "cell_type": "code",
   "execution_count": 1,
   "metadata": {
    "pycharm": {
     "name": "#%%\n"
    }
   },
   "outputs": [],
   "source": [
    "import pandas as pd\n",
    "import numpy as np\n",
    "import matplotlib.pyplot as plt\n",
    "from pathlib import Path\n",
    "%matplotlib inline\n",
    "\n",
    "DATE_CODES = ['2019-1', '2019-2', '2019-3', '2019-4', '2019-5', '2019-6', '2019-7', '2019-8', '2019-9', '2019-10',\n",
    "          '2019-11', '2019-12', '2020-1', '2020-2']\n",
    "\n",
    "DISTRICTS = [\"Aleppo\", \"Al-Hasakeh\", \"Ar-Raqqa\", \"As-Sweida\", \"Damascus\", \"Dar'a\", \"Deir-ez-Zor\",\n",
    "             \"Hama\", \"Homs\", \"Idleb\", \"Lattakia\", \"Quneitra\", \"Rural Damascus\", \"Tartous\"]\n",
    "\n",
    "\n",
    "# Data preprocessing - this is unavoidable due to the sheer variability of the source data files\n",
    "## preprocess conflict data\n",
    "conflict_data_path = Path('data/conflict_data_syr.csv')\n",
    "conflict_data = pd.read_csv(conflict_data_path, index_col='data_id')\n",
    "\n",
    "### Date processing\n",
    "conflict_data['event_date'] = pd.to_datetime(conflict_data['event_date'])\n",
    "conflict_data['month'] = conflict_data.apply(lambda row: row['event_date'].month, axis=1)\n",
    "conflict_data['month'] = conflict_data['month'].astype(str)\n",
    "conflict_data['year'] = conflict_data['year'].astype(str)\n",
    "conflict_data['date_code'] = conflict_data['year'] + '-' + conflict_data['month']\n",
    "\n",
    "\n",
    "## preprocess IDP movement data\n",
    "idp_data_paths = ['data/01_idp_jan_19.xlsx', 'data/02_idp_feb_19.xlsm', 'data/03_idp_mar_19.xlsm',\n",
    "                  'data/04_idp_apr_19.xlsm', 'data/05_idp_may_19.xlsm', 'data/06_idp_jun_19.xlsm',\n",
    "                  'data/07_idp_jul_19.xlsm', 'data/08_idp_aug_19.xlsx', 'data/09_idp_sep_19.xlsx',\n",
    "                  'data/10_idp_oct_19.xlsx', 'data/11_idp_nov_19.xlsx', 'data/12_idp_dec_19.xlsx',\n",
    "                  'data/13_idp_jan_20.xlsx', 'data/14_idp_feb_20.xlsx']\n",
    "idp_data = pd.DataFrame(index=DISTRICTS + [\"Unknown\", \"Grand Total\"])\n",
    "\n",
    "for i in range(len(idp_data_paths)):\n",
    "    path = idp_data_paths[i]\n",
    "    month_data = pd.read_excel(path, sheet_name='Table-Origin_vs_Departure', index_col='Origin')[\"Grand Total\"]\n",
    "    idp_data = idp_data.join(month_data, rsuffix=str(i))\n",
    "\n",
    "### re-label columns and drop unknown\n",
    "idp_data = idp_data.drop(labels='Unknown')  # TODO: DON'T FORGET TO MENTION THAT THIS IS BEING DROPPED\n",
    "idp_data.columns = DATE_CODES"
   ]
  },
  {
   "cell_type": "markdown",
   "metadata": {
    "pycharm": {
     "name": "#%% md\n"
    }
   },
   "source": [
    "#### Function Definitions\n",
    "\n",
    "With the above preprocessing complete, we can define useful utility functions for filtering and finding correlations between various aspects of the two datasets. Below we define two functions to filter our data based on governorate and event type, and another to produce a correlation matrix of the two filtered variables."
   ]
  },
  {
   "cell_type": "code",
   "execution_count": 2,
   "metadata": {
    "pycharm": {
     "name": "#%%\n"
    }
   },
   "outputs": [],
   "source": [
    "def extract_conflict_data(conflict_data: pd.DataFrame, admin_district: str, event_type: str):\n",
    "    \"\"\"\n",
    "\n",
    "    :param conflict_data:\n",
    "    :param admin_district:\n",
    "    :param event_type:\n",
    "    :return:\n",
    "    \"\"\"\n",
    "    # Stacking and unstacking inspired by this post: https://stackoverflow.com/questions/37003100/pandas-groupby-for-zero-values\n",
    "\n",
    "    if admin_district and event_type:\n",
    "        extracted_conflict_data = conflict_data.groupby(['admin1', 'event_type', 'date_code']).count()['iso'].unstack(fill_value=0).stack()\n",
    "        extracted_conflict_data = extracted_conflict_data.loc[admin_district, event_type].loc[DATE_CODES]\n",
    "    elif admin_district:\n",
    "        extracted_conflict_data = conflict_data.groupby(['admin1', 'date_code']).count()['iso'].unstack(fill_value=0).stack()\n",
    "        extracted_conflict_data = extracted_conflict_data.loc[admin_district].loc[DATE_CODES]\n",
    "    elif event_type:\n",
    "        extracted_conflict_data = conflict_data.groupby(['event_type', 'date_code']).count()['iso'].unstack(fill_value=0).stack()\n",
    "        extracted_conflict_data = extracted_conflict_data.loc[event_type].loc[DATE_CODES]\n",
    "    else:\n",
    "        extracted_conflict_data = conflict_data.groupby(['date_code']).count()['iso']\n",
    "        extracted_conflict_data = extracted_conflict_data.loc[DATE_CODES]\n",
    "\n",
    "    return pd.DataFrame(extracted_conflict_data)\n",
    "\n",
    "\n",
    "def extract_idp_data(idp_data: pd.DataFrame, admin_district: str) -> pd.DataFrame:\n",
    "    \"\"\"\n",
    "\n",
    "    :param idp_data:\n",
    "    :param admin_district:\n",
    "    :return:\n",
    "    \"\"\"\n",
    "\n",
    "    if admin_district:\n",
    "        extracted_idp_data = idp_data.loc[admin_district]\n",
    "    else:\n",
    "        extracted_idp_data = idp_data.loc['Grand Total']\n",
    "\n",
    "    return extracted_idp_data\n",
    "\n",
    "\n",
    "\n",
    "def calculate_conflict_movement_correlation(conflict_data: pd.DataFrame, idp_data: pd.DataFrame,\n",
    "                                            event_type: str = '', admin_district: str = '', delta: bool = False):\n",
    "    \"\"\"\n",
    "\n",
    "    :param conflict_data:\n",
    "    :param idp_data:\n",
    "    :param event_type:\n",
    "    :param admin_district:\n",
    "    :param delta:\n",
    "    :return:\n",
    "    \"\"\"\n",
    "    extracted_conflict_data = extract_conflict_data(conflict_data, admin_district, event_type)\n",
    "    extracted_idp_data = extract_idp_data(idp_data, admin_district)\n",
    "    corr_frame = extracted_conflict_data.join(extracted_idp_data)\n",
    "    if delta:\n",
    "        corr_frame = corr_frame.pct_change()\n",
    "        corr_frame = corr_frame.drop(labels='2019-1')\n",
    "\n",
    "    labels = {'iso': 'conflict', 'Grand Total': 'movement'}\n",
    "    corr_frame = corr_frame.corr().rename(columns=labels, index=labels)\n",
    "\n",
    "    return corr_frame"
   ]
  },
  {
   "cell_type": "markdown",
   "metadata": {
    "pycharm": {
     "name": "#%% md\n"
    }
   },
   "source": [
    "### Part Two: Data Exploration and Analysis"
   ]
  },
  {
   "cell_type": "markdown",
   "metadata": {
    "pycharm": {
     "name": "#%% md\n"
    }
   },
   "source": [
    "#### Initial Hypothesis Testing\n",
    "Our initial testing uses the broadest possible scope, calculating the correlation between, in the first case, overall movement numbers and overall conflict numbers by month, and in the second case the percent change in these totals by month."
   ]
  },
  {
   "cell_type": "code",
   "execution_count": null,
   "outputs": [],
   "source": [
    "corr_raw_counts = calculate_conflict_movement_correlation(conflict_data, idp_data).loc['conflict']['movement']\n",
    "corr_deltas = calculate_conflict_movement_correlation(conflict_data, idp_data, delta=True).loc['conflict']['movement']\n",
    "\n",
    "print(f'Pearson\\'s r correlation between raw conflict event and IDP movement counts by month:\\n{round(corr_raw_counts, 4)}')\n",
    "print(f'Pearson\\'s r correlation between % change in conflict event and IDP movement counts by month:\\n{round(corr_deltas, 4)}')"
   ],
   "metadata": {
    "collapsed": false,
    "pycharm": {
     "name": "#%%\n"
    }
   }
  },
  {
   "cell_type": "markdown",
   "source": [
    "We find that neither correlation suggests a particularly strong relationship between the two variables, supporting the null hypotheses.\n",
    "\n",
    "NOTE: From this point onward, calculation of correlation will be done based on percent change of variables by month. Raw counts are presented here for the sake of comparison"
   ],
   "metadata": {
    "collapsed": false
   }
  },
  {
   "cell_type": "markdown",
   "source": [
    "#### Digging Deeper - Correlation of Conflict and Movement by Governorate\n",
    "\n",
    "Though comparing change in grand totals does not reveal any clear relationship between change in conflict and change in movement, our statistical picture of the situation becomes much more complex once we investigate the correlation between these two variables by governorate. "
   ],
   "metadata": {
    "collapsed": false
   }
  },
  {
   "cell_type": "code",
   "execution_count": null,
   "outputs": [],
   "source": [
    "    corr_bar = pd.DataFrame(index=DISTRICTS, columns=['correlation'])\n",
    "\n",
    "    for district in DISTRICTS:\n",
    "        corr_bar.loc[district] = calculate_conflict_movement_correlation(conflict_data, idp_data, event_type='', admin_district=district, delta=True).loc[district][0]\n",
    "\n",
    "    plt.figure(figsize=(10, 5))\n",
    "    plt.bar(range(len(DISTRICTS)), corr_bar['correlation'].fillna(0).values, tick_label=DISTRICTS, align='center')\n",
    "    plt.xticks(rotation='vertical')\n",
    "    plt.xlabel('Governorate')\n",
    "    plt.ylabel('Correlation')\n",
    "    plt.suptitle('Correlation of Conflict delta and Movement delta by Governorate')\n",
    "    plt.show()"
   ],
   "metadata": {
    "collapsed": false,
    "pycharm": {
     "name": "#%%\n"
    }
   }
  },
  {
   "cell_type": "markdown",
   "source": [
    "In fact, we see a wide variety of different relationships represented at this level of detail. This suggests the presence of one or more external variables, which may or may not be captured in the source datasets of this analysis, which affect the degree to which conflict and movement are related - or, perhaps, exert some effect on conflict and movement such that the two appear correlated in some cases, and appear unrelated in others."
   ],
   "metadata": {
    "collapsed": false
   }
  },
  {
   "cell_type": "markdown",
   "source": [
    "#### Geographic and Political Commonalities\n",
    "One potential set of relevant external variables is the geographical distribution of the territories of various factions within Syria, during the period studied by this analysis. A conflict map of Syria as of September 2019 (the first month for which we can calculate percent change in IDP movement data) is reproduced below (map courtesy of [polgeonow](www.polgeonow.com)).\n",
    "\n",
    "![alt text](https://1.bp.blogspot.com/-M1NO-ELPqYA/XXssPUmFShI/AAAAAAAAC3c/p1HZwbNvI6shfXuq_qhAvmZqYwSI8ULXACLcBGAsYHQ/s1600/2019-09-10_syria-control-map-kurds-isis-rebels.jpg \"A map of Syria as of September 2019\")"
   ],
   "metadata": {
    "collapsed": false
   }
  },
  {
   "cell_type": "markdown",
   "source": [
    "As has been the case for the majority of the Civil War following the large-scale retreat of ISIS/ISIL (including the present day), the greater part of non-Assad-government forces' territories are concentrated in the North of the country. Interestingly, many of the governorates who exhibit a strong positive correlation between change in conflict and movement are also concentrated in the North. Many were either completely or partially controlled by non-Assad-government forces, were recently under such control, or were contested during the period of time studied in this analysis.\n",
    "\n",
    "To specifically illustrate the geographical aspect of this coincidence, let us extract only those districts who exhibited a positive correlation between change in conflict and movement."
   ],
   "metadata": {
    "collapsed": false
   }
  },
  {
   "cell_type": "code",
   "execution_count": null,
   "outputs": [],
   "source": [
    "positive_corr_bar = corr_bar.query('correlation > 0')\n",
    "\n",
    "positive_corr_districts = [district for district in DISTRICTS if district in positive_corr_bar.index]\n",
    "\n",
    "plt.close()\n",
    "plt.bar(range(len(positive_corr_districts)), positive_corr_bar['correlation'].fillna(0).values, tick_label=positive_corr_districts, align='center')\n",
    "plt.xticks(rotation='vertical')\n",
    "plt.xlabel('Governorate')\n",
    "plt.ylabel('Correlation')\n",
    "plt.suptitle('Positive Correlations of Conflict delta and Movement delta by Governorate')\n",
    "plt.show()"
   ],
   "metadata": {
    "collapsed": false,
    "pycharm": {
     "name": "#%%\n"
    }
   }
  },
  {
   "cell_type": "markdown",
   "source": [
    "Mapped on a simple outline border map of Syria's governorates (map courtesy of [d-maps](https://d-maps.com/carte.php?num_car=56601&lang=en)):\n",
    "\n",
    "![alt text](./img/syria.png \"Map of syria with positive correlation governorates marked in pink\")"
   ],
   "metadata": {
    "collapsed": false
   }
  },
  {
   "cell_type": "code",
   "execution_count": 3,
   "metadata": {},
   "outputs": [
    {
     "name": "stdout",
     "output_type": "stream",
     "text": [
      "Pearson's r correlation between raw conflict event and IDP movement counts by month:\n",
      "-0.0973\n",
      "Pearson's r correlation between % change in conflict event and IDP movement counts by month:\n",
      "0.0834\n"
     ]
    }
   ],
   "source": [
    "Mapped on a simple outline border map of Syria's governorates (map courtesy of [d-maps](https://d-maps.com/carte.php?num_car=56601&lang=en)):\n",
    "\n",
    "![alt text](./img/syria.png \"Map of syria with positive correlation governorates marked in pink\")"
   ]
  },
  {
   "cell_type": "markdown",
   "metadata": {},
   "source": [
    "We find that neither correlation suggests a particularly strong relationship between the two variables, supporting the null hypotheses.\n",
    "\n",
    "NOTE: From this point onward, calculation of correlation will be done based on percent change of variables by month. Raw counts are presented here for the sake of comparison"
   ]
  },
  {
   "cell_type": "markdown",
   "metadata": {},
   "source": [
    "#### Digging Deeper - Correlation of Conflict and Movement by Governorate\n",
    "\n",
    "Though comparing change in grand totals does not reveal any clear relationship between change in conflict and change in movement, our statistical picture of the situation becomes much more complex once we investigate the correlation between these two variables by governorate. "
   ]
  },
  {
   "cell_type": "code",
   "execution_count": 11,
   "metadata": {},
   "outputs": [
    {
     "data": {
      "image/png": "[encoded data removed]",
      "text/plain": [
       "<Figure size 720x360 with 1 Axes>"
      ]
     },
     "metadata": {
      "needs_background": "light"
     },
     "output_type": "display_data"
    }
   ],
   "source": [
    "    corr_bar = pd.DataFrame(index=DISTRICTS, columns=['correlation'])\n",
    "\n",
    "    for district in DISTRICTS:\n",
    "        corr_bar.loc[district] = calculate_conflict_movement_correlation(conflict_data, idp_data, event_type='', admin_district=district, delta=True).loc[district][0]\n",
    "\n",
    "    plt.figure(figsize=(10, 5))\n",
    "    plt.bar(range(len(DISTRICTS)), corr_bar['correlation'].fillna(0).values, tick_label=DISTRICTS, align='center')\n",
    "    plt.xticks(rotation='vertical')\n",
    "    plt.xlabel('Governorate')\n",
    "    plt.ylabel('Correlation')\n",
    "    plt.suptitle('Correlation of Conflict delta and Movement delta by Governorate')\n",
    "    plt.show()"
   ]
  },
  {
   "cell_type": "markdown",
   "metadata": {},
   "source": [
    "In fact, we see a wide variety of different relationships represented at this level of detail. This suggests the presence of one or more external variables, which may or may not be captured in the source datasets of this analysis, which affect the degree to which conflict and movement are related - or, perhaps, exert some effect on conflict and movement such that the two appear correlated in some cases, and appear unrelated in others."
   ]
  },
  {
   "cell_type": "markdown",
   "metadata": {},
   "source": [
    "#### Geographic and Political Commonalities\n",
    "One potential set of relevant external variables is the geographical distribution of the territories of various factions within Syria, during the period studied by this analysis. A conflict map of Syria as of September 2019 (the first month for which we can calculate percent change in IDP movement data) is reproduced below (map courtesy of [polgeonow](www.polgeonow.com)).\n",
    "\n",
    "![alt text](https://1.bp.blogspot.com/-M1NO-ELPqYA/XXssPUmFShI/AAAAAAAAC3c/p1HZwbNvI6shfXuq_qhAvmZqYwSI8ULXACLcBGAsYHQ/s1600/2019-09-10_syria-control-map-kurds-isis-rebels.jpg \"A map of Syria as of September 2019\")"
   ]
  },
  {
   "cell_type": "markdown",
   "metadata": {},
   "source": [
    "As has been the case for the majority of the Civil War following the large-scale retreat of ISIS/ISIL (including the present day), the greater part of non-Assad-government forces' territories are concentrated in the North of the country. Interestingly, many of the governorates who exhibit a strong positive correlation between change in conflict and movement are also concentrated in the North. Many were either completely or partially controlled by non-Assad-government forces, were recently under such control, or were contested during the period of time studied in this analysis.\n",
    "\n",
    "To specifically illustrate the geographical aspect of this coincidence, let us extract only those districts who exhibited a positive correlation between change in conflict and movement."
   ]
  },
  {
   "cell_type": "code",
   "execution_count": 14,
   "metadata": {},
   "outputs": [
    {
     "data": {
      "image/png": "[encoded data removed]",
      "text/plain": [
       "<Figure size 432x288 with 1 Axes>"
      ]
     },
     "metadata": {
      "needs_background": "light"
     },
     "output_type": "display_data"
    }
   ],
   "source": [
    "positive_corr_bar = corr_bar.query('correlation > 0')\n",
    "\n",
    "positive_corr_districts = [district for district in DISTRICTS if district in positive_corr_bar.index]\n",
    "\n",
    "plt.close()\n",
    "plt.bar(range(len(positive_corr_districts)), positive_corr_bar['correlation'].fillna(0).values, tick_label=positive_corr_districts, align='center')\n",
    "plt.xticks(rotation='vertical')\n",
    "plt.xlabel('Governorate')\n",
    "plt.ylabel('Correlation')\n",
    "plt.suptitle('Positive Correlations of Conflict delta and Movement delta by Governorate')\n",
    "plt.show()"
   ]
  },
  {
   "cell_type": "markdown",
   "metadata": {},
   "source": [
    "Mapped on a simple outline border map of Syria's governorates (map courtesy of [d-maps](https://d-maps.com/carte.php?num_car=56601&lang=en)):\n",
    "\n",
    "![alt text](./img/syria.png \"Map of syria with positive correlation governorates marked in pink\")"
   ]
  }
 ],
 "metadata": {
  "kernelspec": {
   "display_name": "Python 3",
   "language": "python",
   "name": "python3"
  },
  "language_info": {
   "codemirror_mode": {
    "name": "ipython",
    "version": 3
   },
   "file_extension": ".py",
   "mimetype": "text/x-python",
   "name": "python",
   "nbconvert_exporter": "python",
   "pygments_lexer": "ipython3",
   "version": "3.7.5"
  },
  "pycharm": {
   "stem_cell": {
    "cell_type": "raw",
    "source": [],
    "metadata": {
     "collapsed": false
    }
   }
  }
 },
 "nbformat": 4,
 "nbformat_minor": 1
}