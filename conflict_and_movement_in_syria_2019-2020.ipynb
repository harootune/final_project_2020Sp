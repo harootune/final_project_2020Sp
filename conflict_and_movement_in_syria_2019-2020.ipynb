{
 "cells": [
  {
   "cell_type": "markdown",
   "metadata": {
    "collapsed": true,
    "pycharm": {
     "name": "#%% md\n"
    }
   },
   "source": [
    "## Conflict and Movement in Syria, 2019-2020\n",
    "### UIUC, iSchool, IS590PR, Spring 2020, Final Project\n",
    "#### By Derek Harootune Otis"
   ]
  },
  {
   "cell_type": "markdown",
   "metadata": {
    "pycharm": {
     "name": "#%% md\n"
    }
   },
   "source": [
    "### Part One: Introduction\n",
    "---\n",
    "\n",
    "This project analyzes the movement of internally displaced persons within Syria in relation to the ebb and flow of Syria's ongoing civil war. It evaluates changes in three conflict-related variables in relation to changes in IDP movement, hoping to identify candidate features for future predictive modeling of IDP movement in the region. Additionally, it examines how the relationship between these variables and IDP movement differs across Syria's governorates.\n",
    "\n",
    "#### Term Definitions\n",
    "---\n",
    "**Internally Displaced Person (IDP)** - \"\\[P\\]ersons or groups of persons who have been forced or obliged to flee or to leave\n",
    "their homes or places of habitual residence, in particular as a result of or in order\n",
    "to avoid the effects of armed conflict, situations of generalized violence, violations\n",
    "of human rights or natural or human-made disasters, and who have not crossed an\n",
    "internationally recognized state border.\" Definition from the [OCHA Guiding Principles on Internal Displacement](https://www.internal-displacement.org/sites/default/files/publications/documents/199808-training-OCHA-guiding-principles-Eng2.pdf)\n",
    "\n",
    "**IDP Movement** - The number of individuals forced to move from a place of origin to a new place. Counts of IDP movement are extracted from OCHA Turkey's \"Syrian Arab Republic: IDP movements and IDP spontaneous return movements Data\" dataset (see below)\n",
    "\n",
    "**Conflict Event** - A single conflict-related observation as recorded in the ACLED's \"Syrian Arab Republic - Conflict Data\" dataset (see below). These vary widely in nature, from \"strategic developmemnts\" to direct attacks against civilians.\n",
    "\n",
    "#### Datasets\n",
    "---\n",
    "1. [Syrian Arab Republic: IDP movements and IDP spontaneous return movements Data](https://data.humdata.org/dataset/syrian-arab-republic-idp-movements-and-idp-spontaneous-return-movements-data)\n",
    "2. [Syrian Arab Republic - Conflict Data](https://data.humdata.org/dataset/acled-data-for-syrian-arab-republic)\n",
    "\n",
    "#### Characterization of Correlations\n",
    "---\n",
    "For the purposes of this analysis, the following ranges of Pearson's r correlation values are shorthanded using the corresponding adjectives:\n",
    "\n",
    "- |r| < 0.1 -> Minimal\n",
    "- 0.1 <= |r| < 0.3 -> Low\n",
    "- 0.3 <= |r| < 0.7 -> Moderate\n",
    "- 0.7 < |r| -> Strong\n",
    "\n",
    "#### Hypotheses\n",
    "---\n",
    "These hypotheses are not rigorously crafted experimental hypotheses, as this is not an experiment. Rather, they are \"common-sense\" intuitions based on the nature of each pair of variables, which guide this analysis and are tested within it.\n",
    "\n",
    "1. Change in the number conflict events is at least moderately positively correlated with change in the number of IDP movements at the national level.\n",
    "\n",
    "2. Change in the number of conflict events involving non-combatants has a more strongly positive correlation with change in the number of IDP movements compared with change in the number of conflict events overall, at the national level.\n",
    "\n",
    "3. Change in the number of fatalities is at least moderately positively correlated with change in the number of IDP movements at the national level.\n",
    "---"
   ]
  },
  {
   "cell_type": "markdown",
   "metadata": {
    "pycharm": {
     "name": "#%% md\n"
    }
   },
   "source": [
    "*Setting the stage - imports, data processing*"
   ]
  },
  {
   "cell_type": "code",
   "execution_count": 1,
   "metadata": {
    "pycharm": {
     "name": "#%%\n"
    }
   },
   "outputs": [],
   "source": [
    "import pandas as pd\n",
    "import matplotlib.pyplot as plt\n",
    "from pathlib import Path\n",
    "from conflict_movement_analysis_utils import *\n",
    "%matplotlib inline\n",
    "\n",
    "# reused variables\n",
    "date_codes = ['2019-1', '2019-2', '2019-3', '2019-4', '2019-5', '2019-6', '2019-7', '2019-8', '2019-9', '2019-10',\n",
    "              '2019-11', '2019-12', '2020-1', '2020-2']\n",
    "\n",
    "districts = [\"Aleppo\", \"Al-Hasakeh\", \"Ar-Raqqa\", \"As-Sweida\", \"Damascus\", \"Dar'a\", \"Deir-ez-Zor\",\n",
    "             \"Hama\", \"Homs\", \"Idleb\", \"Lattakia\", \"Quneitra\", \"Rural Damascus\", \"Tartous\"]\n",
    "\n",
    "# paths to data files\n",
    "conflict_data_path = 'data/conflict_data_syr.csv'\n",
    "\n",
    "idp_data_paths = ['data/01_idp_jan_19.xlsx', 'data/02_idp_feb_19.xlsm', 'data/03_idp_mar_19.xlsm',\n",
    "                  'data/04_idp_apr_19.xlsm', 'data/05_idp_may_19.xlsm', 'data/06_idp_jun_19.xlsm',\n",
    "                  'data/07_idp_jul_19.xlsm', 'data/08_idp_aug_19.xlsx', 'data/09_idp_sep_19.xlsx',\n",
    "                  'data/10_idp_oct_19.xlsx', 'data/11_idp_nov_19.xlsx', 'data/12_idp_dec_19.xlsx',\n",
    "                  'data/13_idp_jan_20.xlsx', 'data/14_idp_feb_20.xlsx']\n",
    "\n",
    "# Extract basic data from files\n",
    "conflict_data = clean_conflict_data(conflict_data_path)\n",
    "\n",
    "idp_data = aggregate_idp_data(idp_data_paths, date_codes, districts)"
   ]
  },
  {
   "cell_type": "markdown",
   "metadata": {
    "pycharm": {
     "name": "#%% md\n"
    }
   },
   "source": [
    "### Part Two: Hypothesis Testing"
   ]
  },
  {
   "cell_type": "markdown",
   "metadata": {
    "pycharm": {
     "name": "#%% md\n"
    }
   },
   "source": [
    "#### Testing The First Hypothesis\n",
    "---"
   ]
  },
  {
   "cell_type": "code",
   "execution_count": 2,
   "metadata": {
    "pycharm": {
     "name": "#%%\n"
    }
   },
   "outputs": [
    {
     "name": "stdout",
     "output_type": "stream",
     "text": [
      "Pearson's r correlation between % change in conflict events and IDP movement counts by month:\n",
      "0.0834\n"
     ]
    }
   ],
   "source": [
    "corr_deltas = calculate_conflict_movement_correlation(conflict_data, idp_data, date_codes, delta=True).loc['conflict']['movement']\n",
    "\n",
    "print(f'Pearson\\'s r correlation between % change in conflict events and IDP movement counts by month:\\n{round(corr_deltas, 4)}')"
   ]
  },
  {
   "cell_type": "markdown",
   "metadata": {},
   "source": [
    "We find that there is a minimal positive correlation between percent change of conflict event count and percent change in IDP movement count by month, which fails to support the first hypothesis."
   ]
  },
  {
   "cell_type": "markdown",
   "metadata": {
    "pycharm": {
     "name": "#%% md\n"
    }
   },
   "source": [
    "#### Digging Deeper - Correlation of Conflict and Movement by Governorate\n",
    "---\n",
    "\n",
    "Though comparing change in grand totals reveals only a minimally positive relationship between change in conflict and change in movement, the statistical picture of these two variables becomes much more complex once we investigate the correlation between them at the governorate level."
   ]
  },
  {
   "cell_type": "code",
   "execution_count": 3,
   "metadata": {
    "pycharm": {
     "name": "#%%\n"
    }
   },
   "outputs": [
    {
     "data": {
      "image/png": "[encoded data removed]",
      "text/plain": [
       "<Figure size 720x360 with 1 Axes>"
      ]
     },
     "metadata": {
      "needs_background": "light"
     },
     "output_type": "display_data"
    }
   ],
   "source": [
    "corr_bar = district_wise_correlations(districts, conflict_data, idp_data, date_codes, delta=True)\n",
    "\n",
    "display_cm_correlation_bar_graph(corr_bar, 'Conflict / Movement Correlations by Governorate')"
   ]
  },
  {
   "cell_type": "markdown",
   "metadata": {},
   "source": [
    "In fact, we see a wide variety of different relationships represented at this level of detail. This suggests the presence of one or more external variables which affect the degree to which conflict and movement are related - or, perhaps, exert some effect on conflict and movement such that the two appear correlated in some cases, and appear unrelated in others."
   ]
  },
  {
   "cell_type": "markdown",
   "metadata": {},
   "source": [
    "#### Geographic and Political Commonalities\n",
    "---\n",
    "One clue which may reveal what these external variables are is the geographic clustering of governorates which exhibit correlations of a similar sign. \n",
    "\n",
    "Here are the correlations of governorates with a positive correlation between change in number of conflict events and change in number of IDP movements.\n",
    "\n"
   ]
  },
  {
   "cell_type": "code",
   "execution_count": 4,
   "metadata": {},
   "outputs": [
    {
     "data": {
      "image/png": "[encoded data removed]",
      "text/plain": [
       "<Figure size 720x360 with 1 Axes>"
      ]
     },
     "metadata": {
      "needs_background": "light"
     },
     "output_type": "display_data"
    }
   ],
   "source": [
    "positive_corr_bar = corr_bar.query('correlation > 0')\n",
    "\n",
    "display_cm_correlation_bar_graph(positive_corr_bar, 'Positive Conflict / Movement Correlations by Governorate')"
   ]
  },
  {
   "cell_type": "markdown",
   "metadata": {},
   "source": [
    "Here are those same governorates highlighted on a map of Syria (map courtesy of [d-maps](https://d-maps.com/carte.php?num_car=56601&lang=en)):\n",
    "\n",
    "![alt text](./img/syria.png \"Map of syria with positive correlation governorates marked in pink\")\n",
    "\n",
    "(IMPORTANT NOTE: Damascus is highlighted for completeness, but its demonstrated positive correlation is low)\n",
    "\n",
    "Let us compare these positions with a conflict map of Syria as of September 2019, towards the middle of the time period studied in this analysis (map courtesy of [polgeonow](www.polgeonow.com)).\n",
    "\n",
    "![alt text](https://1.bp.blogspot.com/-M1NO-ELPqYA/XXssPUmFShI/AAAAAAAAC3c/p1HZwbNvI6shfXuq_qhAvmZqYwSI8ULXACLcBGAsYHQ/s1600/2019-09-10_syria-control-map-kurds-isis-rebels.jpg \"A map of Syria as of September 2019\")\n",
    "\n",
    "As this map demonstrates, many of Syria's most divided and contested regions are located in the north of the country. These regions have rapidly changing borders and lines of battle, widely differing cultures, and many other special circumstances which may affect both the shape of conflict and IDP movement within them. \n",
    "\n",
    "The governorates in these regions also often exhibit moderate or strong positive correlations between change in number of conflict events and change in number of IDP movements by month, while most southern governorates do not. Future investigators who wish to model these aspects of the Syrian conflict in relation to one another should consider examining these regions in close detail."
   ]
  },
  {
   "cell_type": "markdown",
   "metadata": {
    "pycharm": {
     "name": "#%% md\n"
    }
   },
   "source": [
    "#### Testing the Second Hypothesis\n",
    "---"
   ]
  },
  {
   "cell_type": "code",
   "execution_count": 5,
   "metadata": {
    "scrolled": true
   },
   "outputs": [
    {
     "name": "stdout",
     "output_type": "stream",
     "text": [
      "Pearson's r correlation between % change in conflict events involving civilians and IDP movement counts by month:\n",
      "-0.3478\n"
     ]
    }
   ],
   "source": [
    "corr_civ_deltas = calculate_conflict_movement_correlation(conflict_data, idp_data, date_codes, party='Civilians', delta=True).loc['conflict']['movement']\n",
    "\n",
    "print(f'Pearson\\'s r correlation between % change in conflict events involving civilians and IDP movement counts by month:\\n{round(corr_civ_deltas, 4)}')"
   ]
  },
  {
   "cell_type": "markdown",
   "metadata": {},
   "source": [
    "We find that the correlation between percent change in number of conflict events involving civilians and IDP movement counts is not more strongly positive than the correlation of change in number of all conflict events with IDP movement. In fact, there is a moderate *negative* relationship between these two variables. This clearly does not support the second hypothesis, and bears further discussion.\n",
    "\n",
    "Given the data and level of analysis being done in the context of this project, **it is impossible to pinpoint the reason behind this counterintuitive r value**. We are working with a low number of observations, only 12 (12 month-to-month changes), and the quality of the individual observations aggregated into our month-to-month observations [varies](https://www.dropbox.com/s/ifm90oxlx5xt04u/IDPs%20Methodology%20for%202017.docx?dl=0). However, these limitations apply to the entirety of this analysis, and can be set aside for the sake of speculation.\n",
    "\n",
    "If we imagine this relationship holds true for larger sets of observations, there are two broad categories of potential causes for it. First, there are numerous potential external variables, which are difficult to speculate on. Alternatively, if this negative, moderate correlation happens to reflect a cause-and-effect relationship between our two variables, the negative sign of this correlation may indicate that the direct effects of civilian-involved conflict on movement (or vice-versa) has unanticipated dimensions. For example, higher numbers of attacks against civilians may create an unsafe environment for travel, discouraging movement. Higher numbers of attacks may also directly compromise transport infrastructure, such as public transport, road, and rail.\n",
    "\n",
    "#### Breaking Civilian-Involved Events Down by Governorate\n",
    "---\n",
    "\n",
    "To further explore this relationship in a similar way to the first hypothesis, let's perform the same follow-up treatment on our second hypothesis' dataset as we did on the first's."
   ]
  },
  {
   "cell_type": "code",
   "execution_count": 6,
   "metadata": {},
   "outputs": [
    {
     "data": {
      "image/png": "[encoded data removed]",
      "text/plain": [
       "<Figure size 720x360 with 1 Axes>"
      ]
     },
     "metadata": {
      "needs_background": "light"
     },
     "output_type": "display_data"
    }
   ],
   "source": [
    "corr_civ_bar = district_wise_correlations(districts, conflict_data, idp_data, date_codes, party='Civilians', delta=True)\n",
    "\n",
    "display_cm_correlation_bar_graph(corr_civ_bar, 'Civilian Conflict / Movement Correlations by Governorate')"
   ]
  },
  {
   "cell_type": "markdown",
   "metadata": {},
   "source": [
    "We see a similar pattern as before emerge from this data set. This is somewhat surprising considering the differences we've observed so far. The geographic clustering described before also emerges again, and on a surface level, appears even more pronounced in this data set."
   ]
  },
  {
   "cell_type": "code",
   "execution_count": 7,
   "metadata": {},
   "outputs": [
    {
     "data": {
      "image/png": "[encoded data removed]",
      "text/plain": [
       "<Figure size 720x360 with 1 Axes>"
      ]
     },
     "metadata": {
      "needs_background": "light"
     },
     "output_type": "display_data"
    }
   ],
   "source": [
    "positive_corr_civ_bar = corr_civ_bar.query('correlation > 0')\n",
    "\n",
    "display_cm_correlation_bar_graph(positive_corr_civ_bar, 'Positive Civilian Conflict / Movement Correlations by Governorate')"
   ]
  },
  {
   "cell_type": "markdown",
   "metadata": {},
   "source": [
    "![alt text](./img/syria-2.png \"Map of syria with positive correlation governorates marked in pink (civilian conflict)\")\n",
    "\n",
    "(IMPORTANT NOTE: Hama is highlighted for completeness, but its demonstrated positive relationship is **extremely** minimal)\n",
    "\n",
    "Once again, it seems prudent for future investigators to examine the circumstances of these northern, contested governorates for features which may play a critical role in predicting IDP movement and/or conflict events.\n",
    "\n",
    "#### Testing the Third Hypothesis\n",
    "---"
   ]
  },
  {
   "cell_type": "code",
   "execution_count": 8,
   "metadata": {},
   "outputs": [
    {
     "name": "stdout",
     "output_type": "stream",
     "text": [
      "Pearson's r correlation between % change in fatalities and IDP movement counts by month:\n",
      "0.1613\n"
     ]
    }
   ],
   "source": [
    "corr_fatal_deltas = calculate_conflict_movement_correlation(conflict_data, idp_data, date_codes, delta=True, fatal=True).loc['conflict']['movement']\n",
    "\n",
    "print(f'Pearson\\'s r correlation between % change in fatalities and IDP movement counts by month:\\n{round(corr_fatal_deltas, 4)}')"
   ]
  },
  {
   "cell_type": "markdown",
   "metadata": {},
   "source": [
    "We find that there is a low positive correlation between percent change of conflict event count and percent change in IDP movement count by month, which fails to support the third hypothesis as written.\n",
    "\n",
    "This is so far the strongest positive relationship between change in a conflict-related variable and change in IDP movement at the country level, though it is by no means a good one.\n",
    "\n",
    "#### At the Governorate Level\n",
    "---\n",
    "\n",
    "More interestingly, when we measure this hypothesis' two variables by governorate, we see a similar pattern of varying relationships appear *yet again*."
   ]
  },
  {
   "cell_type": "code",
   "execution_count": null,
   "metadata": {
    "pycharm": {
     "name": "#%%\n"
    }
   },
   "outputs": [],
   "source": [
    "corr_fatal_bar = district_wise_correlations(districts, conflict_data, idp_data, date_codes, delta=True, fatal=True)\n",
    "\n",
    "display_cm_correlation_bar_graph(corr_fatal_bar, 'Fatality / Movement Correlations by Governorate')"
   ]
  },
  {
   "cell_type": "markdown",
   "metadata": {},
   "source": [
    "By \"similar pattern\", I do not just mean that we see varying correlation by governorate. That itself would not be surprising. However, several of *the same* governorates exhibit moderate-to-strong correlations between conflict related events across all three data subsets. Specifically, **Aleppo**, **Al-Hasakeh**, **Ar-Raqqa**, and **Idleb** exhibit moderate or strong correlation between change in a conflict-related variable and change in IDP movement in all three subsets."
   ]
  },
  {
   "cell_type": "code",
   "execution_count": null,
   "metadata": {
    "pycharm": {
     "name": "#%%\n"
    }
   },
   "outputs": [],
   "source": [
    "positive_corr_fatal_bar = corr_fatal_bar.query('correlation > 0')\n",
    "\n",
    "display_cm_correlation_bar_graph(positive_corr_fatal_bar, 'Positive Fatality / Movement Correlations by Governorate')"
   ]
  },
  {
   "cell_type": "markdown",
   "metadata": {},
   "source": [
    "![alt text](./img/syria-3.png \"Map of syria with positive correlation governorates marked in pink (fatalities)\")\n",
    "\n",
    "(IMPORTANT NOTE: Damascus and Dair-ez-Zor are included for completeness, though their correlations are low)\n",
    "\n",
    "The persistence of this pattern through the test of change in fatalities as related to change in movement is particularly notable. The second conflict-related variable tested against IDP movement, in this analysis, was effectively a subset of the first. Each are expressions of change in month-to-month counts of conflict events, and further investigation may find that the proportion of those events involving civilians clusters relatively closely around some average value across Syria's governorates. \n",
    "\n",
    "However, the third test's conflict-related variable is an expression of change in number of fatalities, a variable which, while related to overall number of events, is not so nearly closely related to it. Event types vary from 'Strategic Developments' to 'Battles' to 'Abductions', while number of fatalities can vary significantly within event types.\n",
    "\n",
    "#### Conclusions\n",
    "---\n",
    "\n",
    "None of our original hypotheses, as written, were supported. Actual observed correlations between change in IDP movement and the selected conflict-related variables ranged from low to moderately negative. Thus, none of these conflict-related variables present themselves as likely candidate features for predictive modeling of IDP movement in Syria. The second variable tested, change in number of conflict events involving civilians, may be an exception as it exhibited a moderately negative relationship with overall IDP movement. However, the nature and potential causes of this relationship should be examined more carefully and more thoroughly than has been done here before it is used seriously for modeling at the national level.\n",
    "\n",
    "That being said, at the governorate level, we found that certain conflict-related variables were very strongly correlated with movement. For example, change in overall number of events was strongly correlated with change in number of IDP movements in Al-Hasakeh; change in civilian-involved events was strongly correlated with movement in Aleppo; and change in fatalities was strongly correlated with movement in Raqqa. With further testing, these may already prove to be strong candidate features for movement prediction in these regions.\n",
    "\n",
    "Another exciting result of this analysis emerged from the follow-up break-down of each tested relationship to the governorate level. Several geographically-clustered northern governorates exhibited consistently moderate or strong positive correlations between all three tested conflict-related variables. Though it is impossible to determine the exact cause of this pattern, its presence should be taken as a cue by future investigators to examine Syria's contested northern districts for unique features which may affect the apparent relationship between conflict and movement.\n",
    "\n",
    "#### Limitations & Notes\n",
    "---\n",
    "\n",
    "Due to the nature of the data used in this exploration, there are a number of potential limitations on data collection which affect the quality of the data collected. Conclusions are made under the assumption that these limitations remain relatively constant over time, which would presumably safeguard model reliability.\n",
    "\n",
    "For current documentation of OCHA Turkey's IDP data collection methodology and potential limitations, see the \"Methodology\" field under the Metadata tab on the [download page for the IDP dataset](https://data.humdata.org/dataset/syrian-arab-republic-idp-movements-and-idp-spontaneous-return-movements-data).\n",
    "\n",
    "For current documentation on the ACLED's data collection and curation methodology, see the [ACLED's methodology page](https://acleddata.com/resources/methodology/).\n",
    "\n",
    "Future investigations of correlation in specific governorates should calculate p-values for these governorates' correlation coefficients. Support for this feature will be added to the library underpinning this document in a future release."
   ]
  },
  {
   "cell_type": "code",
   "execution_count": null,
   "outputs": [],
   "source": [],
   "metadata": {
    "collapsed": false,
    "pycharm": {
     "name": "#%%\n"
    }
   }
  },
  {
   "cell_type": "code",
   "execution_count": null,
   "metadata": {},
   "outputs": [],
   "source": []
  }
 ],
 "metadata": {
  "kernelspec": {
   "display_name": "Python 3",
   "language": "python",
   "name": "python3"
  },
  "language_info": {
   "codemirror_mode": {
    "name": "ipython",
    "version": 3
   },
   "file_extension": ".py",
   "mimetype": "text/x-python",
   "name": "python",
   "nbconvert_exporter": "python",
   "pygments_lexer": "ipython3",
   "version": "3.7.5"
  },
  "pycharm": {
   "stem_cell": {
    "cell_type": "raw",
    "source": [],
    "metadata": {
     "collapsed": false
    }
   }
  }
 },
 "nbformat": 4,
 "nbformat_minor": 1
}